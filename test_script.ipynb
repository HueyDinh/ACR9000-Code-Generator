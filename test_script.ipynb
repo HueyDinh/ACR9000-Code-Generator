{
 "cells": [
  {
   "cell_type": "code",
   "execution_count": 4,
   "metadata": {},
   "outputs": [
    {
     "data": {
      "text/plain": [
       "True"
      ]
     },
     "execution_count": 4,
     "metadata": {},
     "output_type": "execute_result"
    }
   ],
   "source": [
    "from ExperimentalCompiler import Compiler\n",
    "import cv2\n",
    "\n",
    "img = cv2.imread(\"DragonIcon_Blue_HEX_125.png\", cv2.IMREAD_GRAYSCALE)\n",
    "img = cv2.threshold(img,254,255,cv2.THRESH_BINARY)[1]\n",
    "\n",
    "compiler_repr = Compiler(\n",
    "    drop_diameter=125,\n",
    "    x_home=0,\n",
    "    y_home=0,\n",
    "    x_ramp_array_size=30,\n",
    "    prefire_offset=300,\n",
    "    purge_row_offset=-5000,\n",
    "    acc=60*2000,\n",
    "    dec=60*2000,\n",
    "    stp=60*2000,\n",
    "    vel=30*2000,\n",
    "    image_profile=img,\n",
    "    encoder_conversion_factor=0.5\n",
    ")\n",
    "\n",
    "compiler_repr.export_to_txt(\"export.txt\")\n",
    "cv2.imwrite(\"masked_img.png\",compiler_repr.masked_image)\n",
    "\n"
   ]
  }
 ],
 "metadata": {
  "kernelspec": {
   "display_name": "Python 3.10.5 ('scientific_computing')",
   "language": "python",
   "name": "python3"
  },
  "language_info": {
   "codemirror_mode": {
    "name": "ipython",
    "version": 3
   },
   "file_extension": ".py",
   "mimetype": "text/x-python",
   "name": "python",
   "nbconvert_exporter": "python",
   "pygments_lexer": "ipython3",
   "version": "3.10.5 (tags/v3.10.5:f377153, Jun  6 2022, 16:14:13) [MSC v.1929 64 bit (AMD64)]"
  },
  "orig_nbformat": 4,
  "vscode": {
   "interpreter": {
    "hash": "7cc951bb8473dc6894ee7b9e8d25ca6435efb85d85efe5d9ea830b2d7eb42ca9"
   }
  }
 },
 "nbformat": 4,
 "nbformat_minor": 2
}
